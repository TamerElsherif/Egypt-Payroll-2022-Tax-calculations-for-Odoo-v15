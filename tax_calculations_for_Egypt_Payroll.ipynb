{
  "nbformat": 4,
  "nbformat_minor": 0,
  "metadata": {
    "colab": {
      "name": "tax calculations for Egypt Payroll.ipynb",
      "provenance": [],
      "collapsed_sections": [],
      "toc_visible": true,
      "authorship_tag": "ABX9TyNulP9KuZJX67Cf5NXtItSe",
      "include_colab_link": true
    },
    "kernelspec": {
      "name": "python3",
      "display_name": "Python 3"
    },
    "language_info": {
      "name": "python"
    }
  },
  "cells": [
    {
      "cell_type": "markdown",
      "metadata": {
        "id": "view-in-github",
        "colab_type": "text"
      },
      "source": [
        "<a href=\"https://colab.research.google.com/github/TamerElsherif/Egypt-Payroll-2022-Tax-calculations-for-Odoo-v15/blob/main/tax_calculations_for_Egypt_Payroll.ipynb\" target=\"_parent\"><img src=\"https://colab.research.google.com/assets/colab-badge.svg\" alt=\"Open In Colab\"/></a>"
      ]
    },
    {
      "cell_type": "markdown",
      "source": [
        "# Egypt Payroll Calculations Jan 2022\n",
        "*It can be used in Odoo payroll*\n",
        "\n",
        "This code is calculating the Egyptian taxes according to the tax updated tax laws according to the Egyptian law.\n",
        "\n",
        "\n",
        "Author: **Tamer ElSherif**\n",
        "       \n",
        "        17 Jan 2022"
      ],
      "metadata": {
        "id": "4jDwTrbvkbgj"
      }
    },
    {
      "cell_type": "code",
      "source": [
        "USDRATE=15.65 #EGP to USD Rate\n",
        "gross=1000*USDRATE  #EXAMPLE Gross Salary put the gross salary in USD\n",
        "\n",
        "Duration=1 #usual 1 month\n",
        "InsuranceWage= 9400 if gross>9400 else gross  # الأجر التأميني\n",
        "CommunityParticipation=0.0005*gross*Duration  # المساهمة المجتمعية و أسر الشهداء \n",
        "EmployeeSocialInsuranceShare=0.11*InsuranceWage*Duration  # حصة الموظف من التأمينات الإجتماعية\n",
        "PersonalExemption=Duration*9000/12                        # إعفاء شخصي\n",
        "TaxableAmountEstimate=gross-CommunityParticipation-EmployeeSocialInsuranceShare-PersonalExemption  # الشهري الخاضع للضريبة    \n",
        "AnnualTaxableAmount= 0 if TaxableAmountEstimate<=0 else TaxableAmountEstimate*12     #  الجزء من الراتب السنوي الخاضع للضريبة  "
      ],
      "metadata": {
        "id": "4DtJDKWJ2T7u"
      },
      "execution_count": null,
      "outputs": []
    },
    {
      "cell_type": "code",
      "execution_count": null,
      "metadata": {
        "id": "emqruKI6uBm8"
      },
      "outputs": [],
      "source": [
        "def tax(TAXABLE):\n",
        "  # level1=15000   # الشريحة الأولى\n",
        "  # level2=30000    \n",
        "  # level3=45000\n",
        "  # Level4=200000\n",
        "  # level5=400000\n",
        "  # level7=600000\n",
        "\n",
        "  Level8_tax= 375 if 600001<=TAXABLE<700000 else 2625 if 700001<=TAXABLE<800000 else 4875 if 800001<=TAXABLE<900000 else 7875 if 900001<=TAXABLE<1000001 else 12875 if TAXABLE>1000001 else 0\n",
        "  \n",
        "  if TAXABLE <= 30000 :\n",
        "    result = (TAXABLE-15000 * 0.025)/12\n",
        "  elif 30000 < TAXABLE <= 45000:\n",
        "    result = (375 + (TAXABLE - 30000)*0.10)/12\n",
        "  elif 45000 < TAXABLE <= 60000 :\n",
        "    result = (1500 +375+(TAXABLE - 45000)*0.15)/12\n",
        "  elif 60000 < TAXABLE <= 200000 :\n",
        "    result = (2250 + 1500 +375+ (TAXABLE - 60000)*0.2 )/12\n",
        "  elif 200000 < TAXABLE <= 400000 : \n",
        "    result = (28000 + 2250 + 1500 +375+ (TAXABLE - 400000)*0.225 )/12\n",
        "  elif TAXABLE > 600000 :\n",
        "    result = (Level8_tax + 45000+28000 + 2250 + 1500 +375+ (TAXABLE - 400000)*0.25 )/12\n",
        "  else:\n",
        "    result = 0\n",
        "\n",
        "  return result"
      ]
    },
    {
      "cell_type": "code",
      "source": [
        "BOLD = '\\033[1m'   # Bold text printing format\n",
        "END = '\\033[0m'    # Red text printing format\n",
        "RED = '\\033[91m'   # End of text print formating\n",
        "\n",
        "taxes=tax(AnnualTaxableAmount)   #Taxes\n",
        "print(BOLD + 'Gross ={0:5,.0f} \\n'.format(gross) + END )\n",
        "print('InsuranceWage = {0:5,.0f} \\n'.format(InsuranceWage),RED+'CommunityParticipation = %.1f \\n'% CommunityParticipation,'EmployeeSocialInsuranceShare= {0:5,.0f}  \\n'.format(EmployeeSocialInsuranceShare)+END)\n",
        "print('PersonalExemption =', PersonalExemption )\n",
        "print('TaxableAmountEstimate = {0:5,.0f} \\n'.format(TaxableAmountEstimate),'AnnualTaxableAmount = {0:5,.0f} \\n'.format(AnnualTaxableAmount) )\n",
        "print(RED+\"Taxes ={0:5,.0f}\".format(taxes) +END)\n",
        "\n",
        "net=gross-CommunityParticipation-EmployeeSocialInsuranceShare-taxes\n",
        "print(BOLD+'Net = {0:5,.0f}  '.format(net), 'Net USD = ${0:5,.0f}\\n'.format(net/15.65))\n",
        "\n",
        "TotalDeductions=CommunityParticipation+EmployeeSocialInsuranceShare+taxes\n",
        "print(RED+'Total Deductions = {0:5,.0f}'.format(TotalDeductions),'Total Ded USD =${0:5,.0f} '.format(TotalDeductions/USDRATE))"
      ],
      "metadata": {
        "colab": {
          "base_uri": "https://localhost:8080/"
        },
        "id": "aM5TIeGxuFV9",
        "outputId": "4cadca26-0dbe-4922-c0b9-ece07b038a08"
      },
      "execution_count": null,
      "outputs": [
        {
          "output_type": "stream",
          "name": "stdout",
          "text": [
            "\u001b[1mGross =15,650 \n",
            "\u001b[0m\n",
            "InsuranceWage = 9,400 \n",
            " \u001b[91mCommunityParticipation = 7.8 \n",
            " EmployeeSocialInsuranceShare= 1,034  \n",
            "\u001b[0m\n",
            "PersonalExemption = 750.0\n",
            "TaxableAmountEstimate = 13,858 \n",
            " AnnualTaxableAmount = 166,298 \n",
            "\n",
            "\u001b[91mTaxes =2,115\u001b[0m\n",
            "\u001b[1mNet = 12,493   Net USD = $  798\n",
            "\n",
            "\u001b[91mTotal Deductions = 3,157 Total Ded USD =$  202 \n"
          ]
        }
      ]
    },
    {
      "cell_type": "markdown",
      "source": [
        "**How to add in Odoo Payroll v15 or Online**\n",
        "\n",
        "Go to:\n",
        "*  Configuration\n",
        "*  Rules\n",
        "*  in Salary Structure Rules\n",
        "*  Create a new rule\n",
        "*  name it Taxes  \n",
        "\n",
        "\n",
        "**Conditions**\n",
        "Condition Based on\tAlways True\n",
        "  \n",
        "  \n",
        "**Computation**\n",
        "Amount Type\tPython Code\n",
        "  \n",
        "**Python Code\t**\n",
        "result=0\n",
        "Duration=1\n",
        "gross=contract.wage\n",
        "InsuranceWage= 9400 if contract.wage>9400 else contract.wage\n",
        "CommunityParticipation=0.0005*gross*Duration\n",
        "EmployeeSocialInsuranceShare=0.11*InsuranceWage*Duration\n",
        "PersonalExemption=Duration*9000/12\n",
        "TaxableAmountEstimate=gross-CommunityParticipation-EmployeeSocialInsuranceShare-PersonalExemption\n",
        "AnnualTaxableAmount= 0 if TaxableAmountEstimate<=0 else TaxableAmountEstimate*12\n",
        "TAXABLE=AnnualTaxableAmount\n",
        "\n",
        "Level8_tax= 375 if 600001<=TAXABLE<700000 else 2625 if 700001<=TAXABLE<800000 else 4875 if 800001<=TAXABLE<900000 else 7875 if 900001<=TAXABLE<1000001 else 12875 if TAXABLE>1000001 else 0\n",
        "\n",
        "if TAXABLE <= 30000 :\n",
        "  result = -(TAXABLE-15000 * 0.025)/12\n",
        "elif 30000 < TAXABLE <= 45000:\n",
        "  result = -(375 + (TAXABLE - 30000)*0.10)/12\n",
        "elif 45000 < TAXABLE <= 60000 :\n",
        "  result = -(1500 +375+(TAXABLE - 45000)*0.15)/12\n",
        "elif 60000 < TAXABLE <= 200000 :\n",
        "  result = (2250 + 1500 +375+ (TAXABLE - 60000)*0.2 )/12\n",
        "elif 200000 < TAXABLE <= 400000 : \n",
        "  result = -(28000 + 2250 + 1500 +375+ (TAXABLE - 400000)*0.225 )/12\n",
        "elif TAXABLE > 600000 :\n",
        "  result = -(Level8_tax + 45000+28000 + 2250 + 1500 +375+ (TAXABLE - 400000)*0.25 )/12\n",
        "else:\n",
        "  result = 0 \n",
        "\n"
      ],
      "metadata": {
        "id": "4agba_J2pz1S"
      }
    },
    {
      "cell_type": "code",
      "source": [
        "#For Odoo start COPY from here\n",
        "#---------------------------------------------------------------------------\n",
        "\n",
        "result=0\n",
        "Duration=1\n",
        "gross=contract.wage\n",
        "InsuranceWage= 9400 if contract.wage>9400 else contract.wage\n",
        "CommunityParticipation=0.0005*gross*Duration\n",
        "EmployeeSocialInsuranceShare=0.11*InsuranceWage*Duration\n",
        "PersonalExemption=Duration*9000/12\n",
        "TaxableAmountEstimate=gross-CommunityParticipation-EmployeeSocialInsuranceShare-PersonalExemption\n",
        "AnnualTaxableAmount= 0 if TaxableAmountEstimate<=0 else TaxableAmountEstimate*12\n",
        "TAXABLE=AnnualTaxableAmount\n",
        "\n",
        "Level8_tax= 375 if 600001<=TAXABLE<700000 else 2625 if 700001<=TAXABLE<800000 else 4875 if 800001<=TAXABLE<900000 else 7875 if 900001<=TAXABLE<1000001 else 12875 if TAXABLE>1000001 else 0\n",
        "\n",
        "if TAXABLE <= 30000 :\n",
        "  result = -(TAXABLE-15000 * 0.025)/12\n",
        "elif 30000 < TAXABLE <= 45000:\n",
        "  result = -(375 + (TAXABLE - 30000)*0.10)/12\n",
        "elif 45000 < TAXABLE <= 60000 :\n",
        "  result = -(1500 +375+(TAXABLE - 45000)*0.15)/12\n",
        "elif 60000 < TAXABLE <= 200000 :\n",
        "  result = (2250 + 1500 +375+ (TAXABLE - 60000)*0.2 )/12\n",
        "elif 200000 < TAXABLE <= 400000 : \n",
        "  result = -(28000 + 2250 + 1500 +375+ (TAXABLE - 400000)*0.225 )/12\n",
        "elif TAXABLE > 600000 :\n",
        "  result = -(Level8_tax + 45000+28000 + 2250 + 1500 +375+ (TAXABLE - 400000)*0.25 )/12\n",
        "else:\n",
        "  result = 0 \n",
        "\n",
        "#For Odoo END COPY here\n",
        "#---------------------------------------------------------------------------"
      ],
      "metadata": {
        "id": "rR_h-yuLpa-7"
      },
      "execution_count": null,
      "outputs": []
    }
  ]
}