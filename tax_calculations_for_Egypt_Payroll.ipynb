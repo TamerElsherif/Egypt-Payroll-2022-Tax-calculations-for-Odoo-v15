{
  "nbformat": 4,
  "nbformat_minor": 0,
  "metadata": {
    "colab": {
      "name": "tax calculations for Egypt Payroll.ipynb",
      "provenance": [],
      "collapsed_sections": [],
      "toc_visible": true,
      "authorship_tag": "ABX9TyPqThmr+cJWScW4uiYunISZ",
      "include_colab_link": true
    },
    "kernelspec": {
      "name": "python3",
      "display_name": "Python 3"
    },
    "language_info": {
      "name": "python"
    }
  },
  "cells": [
    {
      "cell_type": "markdown",
      "metadata": {
        "id": "view-in-github",
        "colab_type": "text"
      },
      "source": [
        "<a href=\"https://colab.research.google.com/github/TamerElsherif/Egypt-Payroll-2022-Tax-calculations-for-Odoo-v15/blob/main/tax_calculations_for_Egypt_Payroll.ipynb\" target=\"_parent\"><img src=\"https://colab.research.google.com/assets/colab-badge.svg\" alt=\"Open In Colab\"/></a>"
      ]
    },
    {
      "cell_type": "markdown",
      "source": [
        "# Egypt Payroll Calculations Jan 2022\n",
        "*It can be used in Odoo payroll*\n",
        "\n",
        "This code is calculating the Egyptian taxes according to the tax updated tax laws according to the Egyptian law.\n",
        "\n",
        "\n",
        "Author: **Tamer ElSherif**\n",
        "\n",
        "       tamer.elshereef@gmail.com       \n",
        "       17 Jan 2022"
      ],
      "metadata": {
        "id": "4jDwTrbvkbgj"
      }
    },
    {
      "cell_type": "code",
      "source": [
        "gross= 2128 #Gross Salary in USD\n",
        "USDRATE=15.65 #EGP to USD Rate\n",
        "gross=gross*USDRATE  #convert gross salary from USD to EGP\n",
        "\n",
        "Duration=1 #usual 1 month\n",
        "InsuranceWage= 9400 if gross>9400 else gross  # الأجر التأميني\n",
        "CommunityParticipation=0.0005*gross*Duration  # المساهمة المجتمعية و أسر الشهداء \n",
        "EmployeeSocialInsuranceShare=0.11*InsuranceWage*Duration  # حصة الموظف من التأمينات الإجتماعية\n",
        "PersonalExemption=Duration*9000/12                        # إعفاء شخصي\n",
        "TaxableAmountEstimate=gross-CommunityParticipation-EmployeeSocialInsuranceShare-PersonalExemption  # الشهري الخاضع للضريبة    \n",
        "AnnualTaxableAmount= 0 if TaxableAmountEstimate<=0 else TaxableAmountEstimate*12     #  الجزء من الراتب السنوي الخاضع للضريبة  "
      ],
      "metadata": {
        "id": "4DtJDKWJ2T7u"
      },
      "execution_count": 15,
      "outputs": []
    },
    {
      "cell_type": "code",
      "execution_count": 16,
      "metadata": {
        "id": "emqruKI6uBm8"
      },
      "outputs": [],
      "source": [
        "def tax(TAXABLE):\n",
        "  # level1=15000   #(سنوي) الشريحة الأولى\n",
        "  # level2=30000    \n",
        "  # level3=45000\n",
        "  # Level4=200000\n",
        "  # level5=400000\n",
        "  # level7=600000\n",
        "\n",
        "  Level8_tax= 375 if 600001<=TAXABLE<700000 else 2625 if 700001<=TAXABLE<800000 else 4875 if 800001<=TAXABLE<900000 else 7875 if 900001<=TAXABLE<1000001 else 12875 if TAXABLE>1000001 else 0\n",
        "  \n",
        "  if TAXABLE <= 30000 :\n",
        "    result = (TAXABLE-15000 * 0.025)/12\n",
        "  elif 30000 < TAXABLE <= 45000:\n",
        "    result = (375 + (TAXABLE - 30000)*0.10)/12\n",
        "  elif 45000 < TAXABLE <= 60000 :\n",
        "    result = (1500 +375+(TAXABLE - 45000)*0.15)/12\n",
        "  elif 60000 < TAXABLE <= 200000 :\n",
        "    result = (2250 + 1500 +375+ (TAXABLE - 60000)*0.2 )/12\n",
        "  elif 200000 < TAXABLE <= 400000 : \n",
        "    result = -(28000 + 2250 + 1500 +375+ (TAXABLE - 200000)*0.225 )/12\n",
        "  elif 400000 < TAXABLE <= 600000 :\n",
        "    result = -(45000+28000 + 2250 + 1500 +375+ (TAXABLE - 400000)*0.25 )/12\n",
        "  elif TAXABLE > 600000 :\n",
        "    result = -(Level8_tax + 45000+28000 + 2250 + 1500 +375+ (TAXABLE - 600000)*0.25 )/12\n",
        "  else:\n",
        "    result = -1\n",
        "\n",
        "  return result"
      ]
    },
    {
      "cell_type": "code",
      "source": [
        "BOLD = '\\033[1m'   # Bold text printing format\n",
        "END = '\\033[0m'    # Red text printing format\n",
        "RED = '\\033[91m'   # End of text print formating\n",
        "\n",
        "\n",
        "print(BOLD + 'Gross ={0:5,.0f} L.E\\n'.format(gross) + END,\n",
        "      'Gross USD =${0:5,.0f} \\n'.format(gross/USDRATE) )\n",
        "print('InsuranceWage = {0:5,.0f} L.E \\n'.format(InsuranceWage))\n",
        "print('PersonalExemption =', PersonalExemption,' L.E ' )\n",
        "print('TaxableAmountEstimate = {0:5,.0f} L.E  \\n'.format(TaxableAmountEstimate),\n",
        "      'AnnualTaxableAmount = {0:5,.0f} L.E  \\n'.format(AnnualTaxableAmount) )\n",
        "\n",
        "taxes=-tax(AnnualTaxableAmount)   #Taxes\n",
        "print(RED+\"Taxes ={0:5,.0f} L.E \\n\".format(taxes),' Taxes USD = ${0:5,.0f}'.format(taxes/USDRATE))\n",
        "print(RED+'CommunityParticipation = %.1f L.E  \\n'% CommunityParticipation,\n",
        "      'EmployeeSocialInsuranceShare= {0:5,.0f}  L.E  \\n'.format(EmployeeSocialInsuranceShare)+END)\n",
        "\n",
        "net=gross-CommunityParticipation-EmployeeSocialInsuranceShare-taxes\n",
        "print(BOLD+'Net = {0:5,.0f} L.E  \\n'.format(net), \n",
        "      'Net USD = ${0:5,.0f}\\n'.format(net/USDRATE))\n",
        "\n",
        "TotalDeductions=CommunityParticipation+EmployeeSocialInsuranceShare+taxes\n",
        "print(RED+'Total Deductions = {0:5,.0f} L.E \\n'.format(TotalDeductions),\n",
        "      '  Total Ded USD = ${0:5,.0f} '.format(TotalDeductions/USDRATE))"
      ],
      "metadata": {
        "colab": {
          "base_uri": "https://localhost:8080/"
        },
        "id": "aM5TIeGxuFV9",
        "outputId": "cb90f478-ca70-473f-989c-d6126ce8ce40"
      },
      "execution_count": 17,
      "outputs": [
        {
          "output_type": "stream",
          "name": "stdout",
          "text": [
            "\u001b[1mGross =33,303 L.E\n",
            "\u001b[0m Gross USD =$2,128 \n",
            "\n",
            "InsuranceWage = 9,400 L.E \n",
            "\n",
            "PersonalExemption = 750.0  L.E \n",
            "TaxableAmountEstimate = 31,503 L.E  \n",
            " AnnualTaxableAmount = 378,031 L.E  \n",
            "\n",
            "\u001b[91mTaxes =6,015 L.E \n",
            "  Taxes USD = $  384\n",
            "\u001b[91mCommunityParticipation = 16.7 L.E  \n",
            " EmployeeSocialInsuranceShare= 1,034  L.E  \n",
            "\u001b[0m\n",
            "\u001b[1mNet = 26,237 L.E  \n",
            " Net USD = $1,677\n",
            "\n",
            "\u001b[91mTotal Deductions = 7,066 L.E \n",
            "   Total Ded USD = $  451 \n"
          ]
        }
      ]
    },
    {
      "cell_type": "markdown",
      "source": [
        "------------------------------------------------------------------------\n",
        "**How to add in Odoo Payroll v15 or Online**\n",
        "\n",
        "Go to:\n",
        "*  Configuration\n",
        "*  Rules\n",
        "*  in Salary Structure Rules\n",
        "*  Create a new rule\n",
        "*  name it Taxes  \n",
        "\n",
        "\n",
        "**Conditions**\n",
        "Condition Based on\tAlways True\n",
        "  \n",
        "  \n",
        "**Computation**\n",
        "Amount Type\tPython Code\n",
        "  \n",
        "**Python Code\t**\n",
        "result=0\n",
        "Duration=1\n",
        "gross=contract.wage\n",
        "InsuranceWage= 9400 if contract.wage>9400 else contract.wage\n",
        "CommunityParticipation=0.0005*gross*Duration\n",
        "EmployeeSocialInsuranceShare=0.11*InsuranceWage*Duration\n",
        "PersonalExemption=Duration*9000/12\n",
        "TaxableAmountEstimate=gross-CommunityParticipation-EmployeeSocialInsuranceShare-PersonalExemption\n",
        "AnnualTaxableAmount= 0 if TaxableAmountEstimate<=0 else TaxableAmountEstimate*12\n",
        "TAXABLE=AnnualTaxableAmount\n",
        "\n",
        "Level8_tax= 375 if 600001<=TAXABLE<700000 else 2625 if 700001<=TAXABLE<800000 else 4875 if 800001<=TAXABLE<900000 else 7875 if 900001<=TAXABLE<1000001 else 12875 if TAXABLE>1000001 else 0\n",
        "\n",
        "if TAXABLE <= 30000 :\n",
        "  result = -(TAXABLE-15000 * 0.025)/12\n",
        "elif 30000 < TAXABLE <= 45000:\n",
        "  result = -(375 + (TAXABLE - 30000)*0.10)/12\n",
        "elif 45000 < TAXABLE <= 60000 :\n",
        "  result = -(1500 +375+(TAXABLE - 45000)*0.15)/12\n",
        "elif 60000 < TAXABLE <= 200000 :\n",
        "  result = -(2250 + 1500 +375+ (TAXABLE - 60000)*0.2 )/12\n",
        "elif 200000 < TAXABLE <= 400000 : \n",
        "  result = -(28000 + 2250 + 1500 +375+ (TAXABLE - 400000)*0.225 )/12\n",
        "elif 400000 < TAXABLE <= 600000 :\n",
        "  result = -(45000+28000 + 2250 + 1500 +375+ (TAXABLE - 400000)*0.25 )/12\n",
        "elif TAXABLE > 600000 :\n",
        "  result = -(Level8_tax + 45000+28000 + 2250 + 1500 +375+ (TAXABLE - 400000)*0.25 )/12\n",
        "else:\n",
        "  result = -1\n",
        "\n"
      ],
      "metadata": {
        "id": "4agba_J2pz1S"
      }
    },
    {
      "cell_type": "code",
      "source": [
        "#For Odoo start COPY from here Assuming the currency is EGP\n",
        "#---------------------------------------------------------------------------\n",
        "result=0\n",
        "Duration=1\n",
        "gross=contract.wage\n",
        "InsuranceWage= 9400 if contract.wage>9400 else contract.wage\n",
        "CommunityParticipation=0.0005*gross*Duration\n",
        "EmployeeSocialInsuranceShare=0.11*InsuranceWage*Duration\n",
        "PersonalExemption=Duration*9000/12\n",
        "TaxableAmountEstimate=gross-CommunityParticipation-EmployeeSocialInsuranceShare-PersonalExemption\n",
        "AnnualTaxableAmount= 0 if TaxableAmountEstimate<=0 else TaxableAmountEstimate*12\n",
        "TAXABLE=AnnualTaxableAmount\n",
        "\n",
        "Level8_tax= 375 if 600001<=TAXABLE<700000 else 2625 if 700001<=TAXABLE<800000 else 4875 if 800001<=TAXABLE<900000 else 7875 if 900001<=TAXABLE<1000001 else 12875 if TAXABLE>1000001 else 0\n",
        "\n",
        "if TAXABLE <= 30000 :\n",
        "  result = -(TAXABLE-15000 * 0.025)/12\n",
        "elif 30000 < TAXABLE <= 45000:\n",
        "  result = -(375 + (TAXABLE - 30000)*0.10)/12\n",
        "elif 45000 < TAXABLE <= 60000 :\n",
        "  result = -(1500 +375+(TAXABLE - 45000)*0.15)/12\n",
        "elif 60000 < TAXABLE <= 200000 :\n",
        "  result = -(2250 + 1500 +375+ (TAXABLE - 60000)*0.2 )/12\n",
        "elif 200000 < TAXABLE <= 400000 : \n",
        "  result = -(28000 + 2250 + 1500 +375+ (TAXABLE - 400000)*0.225 )/12\n",
        "elif 400000 < TAXABLE <= 600000 :\n",
        "  result = -(45000+28000 + 2250 + 1500 +375+ (TAXABLE - 400000)*0.25 )/12\n",
        "elif TAXABLE > 600000 :\n",
        "  result = -(Level8_tax + 45000+28000 + 2250 + 1500 +375+ (TAXABLE - 400000)*0.25 )/12\n",
        "else:\n",
        "  result = -1\n",
        "#For Odoo END COPY here\n",
        "#---------------------------------------------------------------------------"
      ],
      "metadata": {
        "id": "rR_h-yuLpa-7",
        "colab": {
          "base_uri": "https://localhost:8080/",
          "height": 234
        },
        "outputId": "f951d36b-6624-4f77-abfd-285d3d07ae77"
      },
      "execution_count": null,
      "outputs": [
        {
          "output_type": "error",
          "ename": "NameError",
          "evalue": "ignored",
          "traceback": [
            "\u001b[0;31m---------------------------------------------------------------------------\u001b[0m",
            "\u001b[0;31mNameError\u001b[0m                                 Traceback (most recent call last)",
            "\u001b[0;32m<ipython-input-6-7df9e177e7dd>\u001b[0m in \u001b[0;36m<module>\u001b[0;34m()\u001b[0m\n\u001b[1;32m      3\u001b[0m \u001b[0mresult\u001b[0m\u001b[0;34m=\u001b[0m\u001b[0;36m0\u001b[0m\u001b[0;34m\u001b[0m\u001b[0;34m\u001b[0m\u001b[0m\n\u001b[1;32m      4\u001b[0m \u001b[0mDuration\u001b[0m\u001b[0;34m=\u001b[0m\u001b[0;36m1\u001b[0m\u001b[0;34m\u001b[0m\u001b[0;34m\u001b[0m\u001b[0m\n\u001b[0;32m----> 5\u001b[0;31m \u001b[0mgross\u001b[0m\u001b[0;34m=\u001b[0m\u001b[0mcontract\u001b[0m\u001b[0;34m.\u001b[0m\u001b[0mwage\u001b[0m\u001b[0;34m\u001b[0m\u001b[0;34m\u001b[0m\u001b[0m\n\u001b[0m\u001b[1;32m      6\u001b[0m \u001b[0mInsuranceWage\u001b[0m\u001b[0;34m=\u001b[0m \u001b[0;36m9400\u001b[0m \u001b[0;32mif\u001b[0m \u001b[0mcontract\u001b[0m\u001b[0;34m.\u001b[0m\u001b[0mwage\u001b[0m\u001b[0;34m>\u001b[0m\u001b[0;36m9400\u001b[0m \u001b[0;32melse\u001b[0m \u001b[0mcontract\u001b[0m\u001b[0;34m.\u001b[0m\u001b[0mwage\u001b[0m\u001b[0;34m\u001b[0m\u001b[0;34m\u001b[0m\u001b[0m\n\u001b[1;32m      7\u001b[0m \u001b[0mCommunityParticipation\u001b[0m\u001b[0;34m=\u001b[0m\u001b[0;36m0.0005\u001b[0m\u001b[0;34m*\u001b[0m\u001b[0mgross\u001b[0m\u001b[0;34m*\u001b[0m\u001b[0mDuration\u001b[0m\u001b[0;34m\u001b[0m\u001b[0;34m\u001b[0m\u001b[0m\n",
            "\u001b[0;31mNameError\u001b[0m: name 'contract' is not defined"
          ]
        }
      ]
    }
  ]
}